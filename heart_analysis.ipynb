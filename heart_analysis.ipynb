{
 "cells": [
  {
   "cell_type": "markdown",
   "id": "1",
   "metadata": {},
   "source": [
    "# Heart Disease Dataset Analysis"
   ]
  },
  {
   "cell_type": "markdown",
   "id": "10oqvetkdct",
   "source": "## Python packages",
   "metadata": {}
  },
  {
   "cell_type": "code",
   "id": "p1pt8q9hrs",
   "source": "import pandas as pd\nimport numpy as np\nimport matplotlib.pyplot as plt\nimport seaborn as sns",
   "metadata": {},
   "execution_count": null,
   "outputs": []
  },
  {
   "cell_type": "code",
   "id": "enr3ahnva4c",
   "source": "%config InlineBackend.figure_format = 'retina'",
   "metadata": {},
   "execution_count": null,
   "outputs": []
  },
  {
   "cell_type": "markdown",
   "id": "j0l8td2uug9",
   "source": "## Load data",
   "metadata": {}
  },
  {
   "cell_type": "code",
   "id": "n09gbvcjgho",
   "source": "df = pd.read_csv('heart.csv')",
   "metadata": {},
   "execution_count": null,
   "outputs": []
  },
  {
   "cell_type": "code",
   "id": "wq4rzwqkoh",
   "source": "# Display basic information about the dataset\nprint(f\"Dataset shape: {df.shape}\")\nprint(f\"\\nColumn names and types:\")\nprint(df.dtypes)\nprint(f\"\\nFirst few rows:\")\ndf.head()",
   "metadata": {},
   "execution_count": null,
   "outputs": []
  },
  {
   "cell_type": "markdown",
   "id": "y3agbw37a7",
   "source": "## Analysis",
   "metadata": {}
  },
  {
   "cell_type": "markdown",
   "id": "i9gnnpy7jc8",
   "source": "### HeartDisease (Response Variable)",
   "metadata": {}
  },
  {
   "cell_type": "code",
   "id": "epucxsz6f1c",
   "source": "# HeartDisease: Binary variable\nfreq_counts = df['HeartDisease'].value_counts().sort_index()\nrel_freq = df['HeartDisease'].value_counts(normalize=True).sort_index()\n\nprint(\"Frequency Counts:\")\nprint(freq_counts)\nprint(\"\\nRelative Frequency:\")\nprint(rel_freq)\n\n# Bar plot\nplt.figure(figsize=(8, 5))\nfreq_counts.plot(kind='bar', color=['skyblue', 'salmon'])\nplt.title('Distribution of HeartDisease')\nplt.xlabel('HeartDisease (0 = No, 1 = Yes)')\nplt.ylabel('Frequency')\nplt.xticks(rotation=0)\nplt.tight_layout()\nplt.show()",
   "metadata": {},
   "execution_count": null,
   "outputs": []
  },
  {
   "cell_type": "markdown",
   "id": "82c8hzinx2o",
   "source": "The **HeartDisease** variable is a binary categorical variable that serves as the response variable in this dataset. It encodes the presence (1) or absence (0) of heart disease in subjects. The distribution shows that the majority of subjects in the dataset have heart disease.",
   "metadata": {}
  },
  {
   "cell_type": "markdown",
   "id": "z85d8lcblie",
   "source": "### Age",
   "metadata": {}
  },
  {
   "cell_type": "code",
   "id": "xvvwvkpchq",
   "source": "# Age: Numerical variable\nage_mean = df['Age'].mean()\nage_std = df['Age'].std()\nage_var = df['Age'].var()\nage_min = df['Age'].min()\nage_max = df['Age'].max()\nage_q1 = df['Age'].quantile(0.25)\nage_q3 = df['Age'].quantile(0.75)\nage_iqr = age_q3 - age_q1\n\nprint(f\"Sample Mean: {age_mean:.2f} years\")\nprint(f\"Standard Deviation: {age_std:.2f} years\")\nprint(f\"Variance: {age_var:.2f}\")\nprint(f\"Minimum: {age_min} years\")\nprint(f\"Maximum: {age_max} years\")\nprint(f\"Q1 (25th percentile): {age_q1} years\")\nprint(f\"Q3 (75th percentile): {age_q3} years\")\nprint(f\"Interquartile Range (IQR): {age_iqr} years\")\n\n# Box-and-whisker plot\nplt.figure(figsize=(8, 5))\nplt.boxplot(df['Age'], vert=False)\nplt.title('Distribution of Age')\nplt.xlabel('Age (years)')\nplt.tight_layout()\nplt.show()",
   "metadata": {},
   "execution_count": null,
   "outputs": []
  },
  {
   "cell_type": "markdown",
   "id": "pavylnv41m",
   "source": "The **Age** variable is a numerical variable representing the age of subjects measured in years. The sample shows a mean age of approximately 54 years with a standard deviation of about 9 years, indicating moderate variability in age across the dataset.",
   "metadata": {}
  },
  {
   "cell_type": "markdown",
   "id": "s28q5lpstd",
   "source": "### Sex",
   "metadata": {}
  },
  {
   "cell_type": "code",
   "id": "6xh858j3ama",
   "source": "# Sex: Binary categorical variable\nfreq_counts = df['Sex'].value_counts()\nrel_freq = df['Sex'].value_counts(normalize=True)\n\nprint(\"Frequency Counts:\")\nprint(freq_counts)\nprint(\"\\nRelative Frequency:\")\nprint(rel_freq)\n\n# Bar plot\nplt.figure(figsize=(8, 5))\nfreq_counts.plot(kind='bar', color=['lightblue', 'pink'])\nplt.title('Distribution of Sex')\nplt.xlabel('Sex (M = Male, F = Female)')\nplt.ylabel('Frequency')\nplt.xticks(rotation=0)\nplt.tight_layout()\nplt.show()",
   "metadata": {},
   "execution_count": null,
   "outputs": []
  },
  {
   "cell_type": "markdown",
   "id": "wsyv6h2mfag",
   "source": "The **Sex** variable is a binary categorical variable where \"M\" encodes male subjects and \"F\" encodes female subjects. The dataset contains significantly more male subjects than female subjects.",
   "metadata": {}
  },
  {
   "cell_type": "markdown",
   "id": "rzha4aeosn",
   "source": "### ChestPainType",
   "metadata": {}
  },
  {
   "cell_type": "code",
   "id": "m3tju2zpbvm",
   "source": "# ChestPainType: Nominal categorical variable\nfreq_counts = df['ChestPainType'].value_counts()\nrel_freq = df['ChestPainType'].value_counts(normalize=True)\n\nprint(\"Frequency Counts:\")\nprint(freq_counts)\nprint(\"\\nRelative Frequency:\")\nprint(rel_freq)\n\n# Bar plot\nplt.figure(figsize=(10, 5))\nfreq_counts.plot(kind='bar', color='steelblue')\nplt.title('Distribution of Chest Pain Type')\nplt.xlabel('Chest Pain Type (ATA = Atypical Angina, ASY = Asymptomatic, NAP = Non-Anginal Pain, TA = Typical Angina)')\nplt.ylabel('Frequency')\nplt.xticks(rotation=45)\nplt.tight_layout()\nplt.show()",
   "metadata": {},
   "execution_count": null,
   "outputs": []
  },
  {
   "cell_type": "markdown",
   "id": "qcvpleptual",
   "source": "The **ChestPainType** variable is a nominal categorical variable with four categories: \"ATA\" (atypical angina), \"ASY\" (asymptomatic), \"NAP\" (non-anginal pain), and \"TA\" (typical angina). The asymptomatic category is the most common in this dataset.",
   "metadata": {}
  },
  {
   "cell_type": "markdown",
   "id": "33ghmg3cwob",
   "source": "### RestingBP",
   "metadata": {}
  },
  {
   "cell_type": "code",
   "id": "1xeqpndyfmej",
   "source": "# RestingBP: Numerical variable\nbp_mean = df['RestingBP'].mean()\nbp_std = df['RestingBP'].std()\nbp_var = df['RestingBP'].var()\nbp_min = df['RestingBP'].min()\nbp_max = df['RestingBP'].max()\nbp_q1 = df['RestingBP'].quantile(0.25)\nbp_q3 = df['RestingBP'].quantile(0.75)\nbp_iqr = bp_q3 - bp_q1\n\nprint(f\"Sample Mean: {bp_mean:.2f} mm Hg\")\nprint(f\"Standard Deviation: {bp_std:.2f} mm Hg\")\nprint(f\"Variance: {bp_var:.2f}\")\nprint(f\"Minimum: {bp_min} mm Hg\")\nprint(f\"Maximum: {bp_max} mm Hg\")\nprint(f\"Q1 (25th percentile): {bp_q1} mm Hg\")\nprint(f\"Q3 (75th percentile): {bp_q3} mm Hg\")\nprint(f\"Interquartile Range (IQR): {bp_iqr} mm Hg\")\n\n# Box-and-whisker plot\nplt.figure(figsize=(8, 5))\nplt.boxplot(df['RestingBP'], vert=False)\nplt.title('Distribution of Resting Blood Pressure')\nplt.xlabel('Resting BP (mm Hg)')\nplt.tight_layout()\nplt.show()",
   "metadata": {},
   "execution_count": null,
   "outputs": []
  },
  {
   "cell_type": "markdown",
   "id": "a2hvhgeuwpq",
   "source": "The **RestingBP** variable is a numerical variable representing the resting systolic blood pressure of subjects measured in mm Hg. The dataset shows a mean resting blood pressure of approximately 132 mm Hg with moderate variability.",
   "metadata": {}
  },
  {
   "cell_type": "markdown",
   "id": "3vm49jzoh9v",
   "source": "### Cholesterol",
   "metadata": {}
  },
  {
   "cell_type": "code",
   "id": "8imm1wa7hog",
   "source": "# Cholesterol: Numerical variable\nchol_mean = df['Cholesterol'].mean()\nchol_std = df['Cholesterol'].std()\nchol_var = df['Cholesterol'].var()\nchol_min = df['Cholesterol'].min()\nchol_max = df['Cholesterol'].max()\nchol_q1 = df['Cholesterol'].quantile(0.25)\nchol_q3 = df['Cholesterol'].quantile(0.75)\nchol_iqr = chol_q3 - chol_q1\n\nprint(f\"Sample Mean: {chol_mean:.2f} mg/dL\")\nprint(f\"Standard Deviation: {chol_std:.2f} mg/dL\")\nprint(f\"Variance: {chol_var:.2f}\")\nprint(f\"Minimum: {chol_min} mg/dL\")\nprint(f\"Maximum: {chol_max} mg/dL\")\nprint(f\"Q1 (25th percentile): {chol_q1} mg/dL\")\nprint(f\"Q3 (75th percentile): {chol_q3} mg/dL\")\nprint(f\"Interquartile Range (IQR): {chol_iqr} mg/dL\")\n\n# Box-and-whisker plot\nplt.figure(figsize=(8, 5))\nplt.boxplot(df['Cholesterol'], vert=False)\nplt.title('Distribution of Cholesterol')\nplt.xlabel('Cholesterol (mg/dL)')\nplt.tight_layout()\nplt.show()",
   "metadata": {},
   "execution_count": null,
   "outputs": []
  },
  {
   "cell_type": "markdown",
   "id": "dkajtf6y7u",
   "source": "The **Cholesterol** variable is a numerical variable representing serum total cholesterol measured in mg/dL. Notably, there are many zero values in this dataset, which likely represent missing or unmeasured data rather than actual cholesterol readings of zero.",
   "metadata": {}
  },
  {
   "cell_type": "markdown",
   "id": "2jvk064tnol",
   "source": "### FastingBS",
   "metadata": {}
  },
  {
   "cell_type": "code",
   "id": "tmxau4wsx1d",
   "source": "# FastingBS: Binary variable\nfreq_counts = df['FastingBS'].value_counts().sort_index()\nrel_freq = df['FastingBS'].value_counts(normalize=True).sort_index()\n\nprint(\"Frequency Counts:\")\nprint(freq_counts)\nprint(\"\\nRelative Frequency:\")\nprint(rel_freq)\n\n# Bar plot\nplt.figure(figsize=(8, 5))\nfreq_counts.plot(kind='bar', color=['lightgreen', 'coral'])\nplt.title('Distribution of Fasting Blood Sugar')\nplt.xlabel('FastingBS (0 = ≤120 mg/dL, 1 = >120 mg/dL)')\nplt.ylabel('Frequency')\nplt.xticks(rotation=0)\nplt.tight_layout()\nplt.show()",
   "metadata": {},
   "execution_count": null,
   "outputs": []
  },
  {
   "cell_type": "markdown",
   "id": "zcmjfmqmgnd",
   "source": "The **FastingBS** variable is a binary variable indicating fasting blood sugar levels, where 0 represents fasting blood sugar ≤120 mg/dL and 1 represents fasting blood sugar >120 mg/dL. The majority of subjects have normal fasting blood sugar levels.",
   "metadata": {}
  },
  {
   "cell_type": "markdown",
   "id": "6h3dtir532u",
   "source": "### RestingECG",
   "metadata": {}
  },
  {
   "cell_type": "code",
   "id": "t1zmtnj81h",
   "source": "# RestingECG: Categorical variable\nfreq_counts = df['RestingECG'].value_counts()\nrel_freq = df['RestingECG'].value_counts(normalize=True)\n\nprint(\"Frequency Counts:\")\nprint(freq_counts)\nprint(\"\\nRelative Frequency:\")\nprint(rel_freq)\n\n# Bar plot\nplt.figure(figsize=(10, 5))\nfreq_counts.plot(kind='bar', color='mediumpurple')\nplt.title('Distribution of Resting ECG')\nplt.xlabel('RestingECG (Normal, ST, LVH)')\nplt.ylabel('Frequency')\nplt.xticks(rotation=45)\nplt.tight_layout()\nplt.show()",
   "metadata": {},
   "execution_count": null,
   "outputs": []
  },
  {
   "cell_type": "markdown",
   "id": "xjk1ud9gi0p",
   "source": "The **RestingECG** variable is a categorical variable representing resting electrocardiogram results with three categories: \"Normal\" (normal ECG), \"ST\" (ST-segment changes), and \"LVH\" (left ventricular hypertrophy). The majority of subjects show normal ECG results.",
   "metadata": {}
  },
  {
   "cell_type": "markdown",
   "id": "22sanp6nepg",
   "source": "### MaxHR",
   "metadata": {}
  },
  {
   "cell_type": "code",
   "id": "2ya3j8yv6x4",
   "source": "# MaxHR: Numerical variable\nhr_mean = df['MaxHR'].mean()\nhr_std = df['MaxHR'].std()\nhr_var = df['MaxHR'].var()\nhr_min = df['MaxHR'].min()\nhr_max = df['MaxHR'].max()\nhr_q1 = df['MaxHR'].quantile(0.25)\nhr_q3 = df['MaxHR'].quantile(0.75)\nhr_iqr = hr_q3 - hr_q1\n\nprint(f\"Sample Mean: {hr_mean:.2f} bpm\")\nprint(f\"Standard Deviation: {hr_std:.2f} bpm\")\nprint(f\"Variance: {hr_var:.2f}\")\nprint(f\"Minimum: {hr_min} bpm\")\nprint(f\"Maximum: {hr_max} bpm\")\nprint(f\"Q1 (25th percentile): {hr_q1} bpm\")\nprint(f\"Q3 (75th percentile): {hr_q3} bpm\")\nprint(f\"Interquartile Range (IQR): {hr_iqr} bpm\")\n\n# Box-and-whisker plot\nplt.figure(figsize=(8, 5))\nplt.boxplot(df['MaxHR'], vert=False)\nplt.title('Distribution of Maximum Heart Rate')\nplt.xlabel('MaxHR (bpm)')\nplt.tight_layout()\nplt.show()",
   "metadata": {},
   "execution_count": null,
   "outputs": []
  },
  {
   "cell_type": "markdown",
   "id": "4hil1ls2312",
   "source": "The **MaxHR** variable is a numerical variable representing the maximum heart rate achieved by subjects measured in beats per minute (bpm). The sample shows a mean maximum heart rate of approximately 137 bpm with considerable variability across subjects.",
   "metadata": {}
  },
  {
   "cell_type": "markdown",
   "id": "56ee37rw48",
   "source": "### ExerciseAngina",
   "metadata": {}
  },
  {
   "cell_type": "code",
   "id": "ihno2dn3syr",
   "source": "# ExerciseAngina: Binary categorical variable\nfreq_counts = df['ExerciseAngina'].value_counts()\nrel_freq = df['ExerciseAngina'].value_counts(normalize=True)\n\nprint(\"Frequency Counts:\")\nprint(freq_counts)\nprint(\"\\nRelative Frequency:\")\nprint(rel_freq)\n\n# Bar plot\nplt.figure(figsize=(8, 5))\nfreq_counts.plot(kind='bar', color=['lightgreen', 'salmon'])\nplt.title('Distribution of Exercise-Induced Angina')\nplt.xlabel('ExerciseAngina (N = No, Y = Yes)')\nplt.ylabel('Frequency')\nplt.xticks(rotation=0)\nplt.tight_layout()\nplt.show()",
   "metadata": {},
   "execution_count": null,
   "outputs": []
  },
  {
   "cell_type": "markdown",
   "id": "nphkpdxwo9b",
   "source": "The **ExerciseAngina** variable is a binary categorical variable where \"N\" encodes the absence of exercise-induced angina and \"Y\" encodes the presence of exercise-induced angina. The majority of subjects do not experience exercise-induced angina.",
   "metadata": {}
  },
  {
   "cell_type": "markdown",
   "id": "44vevrbu51k",
   "source": "### ST_Slope",
   "metadata": {}
  },
  {
   "cell_type": "code",
   "id": "j1k93luk9se",
   "source": "# ST_Slope: Categorical variable\nfreq_counts = df['ST_Slope'].value_counts()\nrel_freq = df['ST_Slope'].value_counts(normalize=True)\n\nprint(\"Frequency Counts:\")\nprint(freq_counts)\nprint(\"\\nRelative Frequency:\")\nprint(rel_freq)\n\n# Bar plot\nplt.figure(figsize=(10, 5))\nfreq_counts.plot(kind='bar', color='teal')\nplt.title('Distribution of ST Slope')\nplt.xlabel('ST_Slope (Flat, Up, Down)')\nplt.ylabel('Frequency')\nplt.xticks(rotation=45)\nplt.tight_layout()\nplt.show()",
   "metadata": {},
   "execution_count": null,
   "outputs": []
  },
  {
   "cell_type": "markdown",
   "id": "lygs5swimae",
   "source": "The **ST_Slope** variable is a categorical variable representing the slope of the ST segment on an ECG with three categories: \"Flat\" (normal), \"Up\" (ST-segment elevation), and \"Down\" (ST-segment depression). The \"Flat\" category is the most common in this dataset.",
   "metadata": {}
  },
  {
   "cell_type": "markdown",
   "id": "f7xnjcmq13q",
   "source": "## Conclusion",
   "metadata": {}
  },
  {
   "cell_type": "markdown",
   "id": "la8lyqxvguk",
   "source": "This heart disease dataset contains 918 observations with 11 variables, including both numerical and categorical features. Key characteristics of the dataset include:\n\n**Demographics and Baseline Characteristics:**\n- The subjects have a mean age of approximately 54 years with moderate variability\n- The dataset is heavily skewed toward male subjects, with significantly more males than females\n- Most subjects show normal resting ECG results and do not experience exercise-induced angina\n\n**Cardiovascular Measurements:**\n- Mean resting blood pressure is approximately 132 mm Hg\n- The Cholesterol variable contains many zero values, likely representing missing data\n- Mean maximum heart rate is approximately 137 bpm with considerable variability\n- Most subjects have normal fasting blood sugar levels (≤120 mg/dL)\n\n**Clinical Indicators:**\n- The majority of subjects are asymptomatic in terms of chest pain type\n- The ST_Slope distribution shows \"Flat\" as the most common category\n- Most subjects do not experience exercise-induced angina\n\n**Response Variable:**\n- The HeartDisease variable shows that the majority of subjects in this dataset have heart disease (encoded as 1)\n\n**Data Quality Considerations:**\n- The Cholesterol variable contains zero values that likely represent missing data and should be handled appropriately in any predictive modeling\n- The dataset is imbalanced in terms of sex distribution, which may need to be considered in subsequent analyses\n\nThis comprehensive dataset provides a rich collection of features for studying heart disease risk factors and could be valuable for developing predictive models for heart disease diagnosis.",
   "metadata": {}
  }
 ],
 "metadata": {
  "kernelspec": {
   "display_name": "Python 3",
   "language": "python",
   "name": "python3"
  },
  "language_info": {
   "codemirror_mode": {
    "name": "ipython",
    "version": 3
   },
   "file_extension": ".py",
   "mimetype": "text/x-python",
   "name": "python",
   "nbconvert_exporter": "python",
   "pygments_lexer": "ipython3",
   "version": "3.8.0"
  }
 },
 "nbformat": 4,
 "nbformat_minor": 5
}